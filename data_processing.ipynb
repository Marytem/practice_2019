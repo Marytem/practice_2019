{
  "nbformat": 4,
  "nbformat_minor": 0,
  "metadata": {
    "colab": {
      "name": "data_processing.ipynb",
      "version": "0.3.2",
      "provenance": [],
      "toc_visible": true,
      "include_colab_link": true
    },
    "kernelspec": {
      "display_name": "Python 3",
      "language": "python",
      "name": "python3"
    }
  },
  "cells": [
    {
      "cell_type": "markdown",
      "metadata": {
        "id": "view-in-github",
        "colab_type": "text"
      },
      "source": [
        "<a href=\"https://colab.research.google.com/github/Marytem/practice_2019/blob/master/data_processing.ipynb\" target=\"_parent\"><img src=\"https://colab.research.google.com/assets/colab-badge.svg\" alt=\"Open In Colab\"/></a>"
      ]
    },
    {
      "metadata": {
        "id": "gx4bpiiUMKhM",
        "colab_type": "text"
      },
      "cell_type": "markdown",
      "source": [
        "### BBC data preprocessing"
      ]
    },
    {
      "metadata": {
        "id": "f6ocM7g5MKhP",
        "colab_type": "code",
        "colab": {}
      },
      "cell_type": "code",
      "source": [
        "from subprocess import Popen, PIPE, STDOUT"
      ],
      "execution_count": 0,
      "outputs": []
    },
    {
      "metadata": {
        "id": "t4qk7pBOMKhW",
        "colab_type": "code",
        "colab": {}
      },
      "cell_type": "code",
      "source": [
        "target = []\n",
        "text = []"
      ],
      "execution_count": 0,
      "outputs": []
    },
    {
      "metadata": {
        "id": "RKxDXSWvMKhe",
        "colab_type": "code",
        "colab": {},
        "outputId": "ed4471a0-6623-4bde-8441-0b46531525eb"
      },
      "cell_type": "code",
      "source": [
        "out = Popen(['ls', 'bbc_filetext/'], \n",
        "           stdout=PIPE, \n",
        "           stderr=STDOUT)\n",
        "stdout, stderr = out.communicate()\n",
        "topics = stdout.decode().split('\\n')\n",
        "topics.remove('')\n",
        "topics"
      ],
      "execution_count": 0,
      "outputs": [
        {
          "output_type": "execute_result",
          "data": {
            "text/plain": [
              "['business', 'entertainment', 'politics', 'sport', 'tech']"
            ]
          },
          "metadata": {
            "tags": []
          },
          "execution_count": 3
        }
      ]
    },
    {
      "metadata": {
        "id": "wuYWfi5aMKhs",
        "colab_type": "code",
        "colab": {},
        "outputId": "a897f973-397c-4106-f127-98fbea416a84"
      },
      "cell_type": "code",
      "source": [
        "for topic in topics:\n",
        "    out = Popen(['ls', 'bbc_filetext/'+topic+'/'], \n",
        "           stdout=PIPE, \n",
        "           stderr=STDOUT)\n",
        "    stdout, stderr = out.communicate()\n",
        "    files = stdout.decode().split('\\n')\n",
        "    files.remove('')\n",
        "    print(topic + '___Done___')\n",
        "    for file in files:\n",
        "        target.append(topic)\n",
        "        text.append(open('bbc_filetext/' + topic+ \"/\" + file, 'r').read().replace('\\n', ''))"
      ],
      "execution_count": 0,
      "outputs": [
        {
          "output_type": "stream",
          "text": [
            "business___Done___\n",
            "entertainment___Done___\n",
            "politics___Done___\n",
            "sport___Done___\n",
            "tech___Done___\n"
          ],
          "name": "stdout"
        }
      ]
    },
    {
      "metadata": {
        "id": "9eBVs4jEMKh2",
        "colab_type": "code",
        "colab": {},
        "outputId": "5e70ab29-943b-485f-bdfe-913e1f67b033"
      },
      "cell_type": "code",
      "source": [
        "len(target)"
      ],
      "execution_count": 0,
      "outputs": [
        {
          "output_type": "execute_result",
          "data": {
            "text/plain": [
              "2224"
            ]
          },
          "metadata": {
            "tags": []
          },
          "execution_count": 5
        }
      ]
    },
    {
      "metadata": {
        "id": "m6bWigvzMKh8",
        "colab_type": "code",
        "colab": {},
        "outputId": "a3fc2c72-4ae8-49ae-c06a-299668f03920"
      },
      "cell_type": "code",
      "source": [
        "len(text)"
      ],
      "execution_count": 0,
      "outputs": [
        {
          "output_type": "execute_result",
          "data": {
            "text/plain": [
              "2224"
            ]
          },
          "metadata": {
            "tags": []
          },
          "execution_count": 6
        }
      ]
    },
    {
      "metadata": {
        "id": "pVaS6SeDMKiH",
        "colab_type": "code",
        "colab": {},
        "outputId": "d8f012e0-5cbf-465a-db27-cf735e426793"
      },
      "cell_type": "code",
      "source": [
        "open('bbc_target.csv', 'w').write(str(target).strip('[]').replace(', ', '\\n'))"
      ],
      "execution_count": 0,
      "outputs": [
        {
          "output_type": "execute_result",
          "data": {
            "text/plain": [
              "23259"
            ]
          },
          "metadata": {
            "tags": []
          },
          "execution_count": 7
        }
      ]
    },
    {
      "metadata": {
        "id": "22kT1bDPMKiM",
        "colab_type": "code",
        "colab": {}
      },
      "cell_type": "code",
      "source": [
        "import csv\n",
        "with open('bbc_text.csv', 'w') as f:\n",
        "    writer = csv.writer(f)\n",
        "    for article in text:\n",
        "        writer.writerow([article])"
      ],
      "execution_count": 0,
      "outputs": []
    },
    {
      "metadata": {
        "id": "E2IpxiusMKiU",
        "colab_type": "text"
      },
      "cell_type": "markdown",
      "source": [
        "### Webhouse data preprocessing"
      ]
    },
    {
      "metadata": {
        "id": "TexrN0tYMKiX",
        "colab_type": "code",
        "colab": {}
      },
      "cell_type": "code",
      "source": [
        "import pandas as pd \n",
        "import numpy as np\n",
        "import json"
      ],
      "execution_count": 0,
      "outputs": []
    },
    {
      "metadata": {
        "id": "0Y5pC-nJMKib",
        "colab_type": "code",
        "colab": {},
        "outputId": "08a3c7b3-b0eb-4e2c-d5b8-84cb6ec91879"
      },
      "cell_type": "code",
      "source": [
        "out = Popen(['ls', 'webhouse_data/'], \n",
        "           stdout=PIPE, \n",
        "           stderr=STDOUT)\n",
        "stdout, stderr = out.communicate()\n",
        "topics = stdout.decode().split('\\n')\n",
        "topics.remove('')\n",
        "topics"
      ],
      "execution_count": 0,
      "outputs": [
        {
          "output_type": "execute_result",
          "data": {
            "text/plain": [
              "['entertainment', 'finance', 'politics', 'sports', 'tech', 'travel']"
            ]
          },
          "metadata": {
            "tags": []
          },
          "execution_count": 3
        }
      ]
    },
    {
      "metadata": {
        "id": "3aqsmfegmghW",
        "colab_type": "code",
        "colab": {}
      },
      "cell_type": "code",
      "source": [
        "def get_folder_content(folder_path):\n",
        "    out = Popen(['ls', folder_path], \n",
        "           stdout=PIPE, \n",
        "           stderr=STDOUT)\n",
        "    stdout, stderr = out.communicate()\n",
        "    files = stdout.decode().split('\\n')\n",
        "    files.remove('')\n",
        "    return files"
      ],
      "execution_count": 0,
      "outputs": []
    },
    {
      "metadata": {
        "id": "Rsm4bMaAOrva",
        "colab_type": "code",
        "colab": {}
      },
      "cell_type": "code",
      "source": [
        "def process_folder(folder_files, text_file_path, target_file_path, target):   \n",
        "    \n",
        "    for file in folder_files:\n",
        "        open(target_file_path, 'a').write(target + \"\\n\")\n",
        "        \n",
        "        with open as f:\n",
        "            article = json.load(f)[\"text\"]\n",
        "        \n",
        "        open(text_file_path, 'a').write(article + \"\\n\")"
      ],
      "execution_count": 0,
      "outputs": []
    },
    {
      "metadata": {
        "id": "-nQCX_zcMKii",
        "colab_type": "code",
        "colab": {}
      },
      "cell_type": "code",
      "source": [
        "for topic in topics:\n",
        "    content = get_folder_content('webhouse_data/'+topic+'/')\n",
        "    \n",
        "    print(topic)\n",
        "    if len(content)<=4:\n",
        "        for directory in content:\n",
        "            files = get_folder_content('webhouse_data/'+topic+'/'+directory+'/')\n",
        "            text_file_path = \n",
        "            process_folder(files, 'text_'+topic+'.csv', 'target_'+topic+'.csv', topic)\n",
        "    else:\n",
        "        process_folder(content, 'text_'+topic+'.csv', 'target_'+topic+'.csv', topic)\n",
        "    print('===================done========================')"
      ],
      "execution_count": 0,
      "outputs": []
    },
    {
      "metadata": {
        "id": "i8gsGHT0MKix",
        "colab_type": "code",
        "colab": {}
      },
      "cell_type": "code",
      "source": [
        ""
      ],
      "execution_count": 0,
      "outputs": []
    },
    {
      "metadata": {
        "id": "ezdH2UsAMKi5",
        "colab_type": "code",
        "colab": {}
      },
      "cell_type": "code",
      "source": [
        ""
      ],
      "execution_count": 0,
      "outputs": []
    },
    {
      "metadata": {
        "id": "LJxLxjGhMKjA",
        "colab_type": "code",
        "colab": {}
      },
      "cell_type": "code",
      "source": [
        ""
      ],
      "execution_count": 0,
      "outputs": []
    },
    {
      "metadata": {
        "id": "TmQQDxv3MKjJ",
        "colab_type": "code",
        "colab": {}
      },
      "cell_type": "code",
      "source": [
        ""
      ],
      "execution_count": 0,
      "outputs": []
    }
  ]
}