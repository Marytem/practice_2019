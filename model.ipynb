{
  "nbformat": 4,
  "nbformat_minor": 0,
  "metadata": {
    "colab": {
      "name": "model.ipynb",
      "version": "0.3.2",
      "provenance": [],
      "collapsed_sections": [
        "abR4IQUDDby_"
      ],
      "toc_visible": true,
      "include_colab_link": true
    },
    "kernelspec": {
      "name": "python3",
      "display_name": "Python 3"
    },
    "accelerator": "GPU"
  },
  "cells": [
    {
      "cell_type": "markdown",
      "metadata": {
        "id": "view-in-github",
        "colab_type": "text"
      },
      "source": [
        "<a href=\"https://colab.research.google.com/github/Marytem/practice_2019/blob/master/model.ipynb\" target=\"_parent\"><img src=\"https://colab.research.google.com/assets/colab-badge.svg\" alt=\"Open In Colab\"/></a>"
      ]
    },
    {
      "metadata": {
        "id": "BYqkR043gq7i",
        "colab_type": "text"
      },
      "cell_type": "markdown",
      "source": [
        "__need__:\n",
        "\n",
        "accuracy\n",
        "\n",
        "__would be good__\n",
        "\n",
        "grid search\n",
        "\n",
        "__experiment__\n",
        "\n",
        "optimizer=ks.optimizers.SGD(lr=0.01)\n",
        "\n",
        "<!-- try l2 regularizattion\n",
        " -->\n",
        "learning rate\n",
        "\n",
        "more layers?"
      ]
    },
    {
      "metadata": {
        "id": "4d2LEhoBz4sp",
        "colab_type": "text"
      },
      "cell_type": "markdown",
      "source": [
        "### data mixing & preprocessing"
      ]
    },
    {
      "metadata": {
        "id": "aYiSMk1Jz4sq",
        "colab_type": "code",
        "colab": {}
      },
      "cell_type": "code",
      "source": [
        "import numpy as np\n",
        "import pandas as pd\n",
        "from sklearn.datasets import fetch_20newsgroups\n",
        "from sklearn.feature_extraction.text import TfidfVectorizer\n",
        "from sklearn.naive_bayes import MultinomialNB\n",
        "from sklearn.metrics import accuracy_score\n",
        "from sklearn.model_selection import train_test_split\n"
      ],
      "execution_count": 0,
      "outputs": []
    },
    {
      "metadata": {
        "id": "Hs8f3E2pz4sw",
        "colab_type": "code",
        "outputId": "b075e1ce-287b-4cc8-c182-d07c56da0548",
        "colab": {
          "base_uri": "https://localhost:8080/",
          "height": 50
        }
      },
      "cell_type": "code",
      "source": [
        "gen_target = pd.read_csv('bbc_target.csv', header=None)[0].append(pd.Series(data=fetch_20newsgroups(subset='all').target), ignore_index=True)\n",
        "gen_text = pd.read_csv('bbc_text.csv', header=None)[0].append(pd.Series(data=fetch_20newsgroups(subset='all', remove=('headers', 'footers')).data), ignore_index=True)"
      ],
      "execution_count": 5,
      "outputs": [
        {
          "output_type": "stream",
          "text": [
            "Downloading 20news dataset. This may take a few minutes.\n",
            "Downloading dataset from https://ndownloader.figshare.com/files/5975967 (14 MB)\n"
          ],
          "name": "stderr"
        }
      ]
    },
    {
      "metadata": {
        "id": "M4ETcSK2mGYt",
        "colab_type": "code",
        "colab": {}
      },
      "cell_type": "code",
      "source": [
        "gen_target.replace({'business':20, 'entertainment':21, 'politics':22, 'sport':23, 'tech':24 }, inplace=True)"
      ],
      "execution_count": 0,
      "outputs": []
    },
    {
      "metadata": {
        "id": "-mgvTrevb51w",
        "colab_type": "code",
        "colab": {}
      },
      "cell_type": "code",
      "source": [
        "x_train, x_test, y_train, y_test = train_test_split(gen_text, gen_target)"
      ],
      "execution_count": 0,
      "outputs": []
    },
    {
      "metadata": {
        "id": "p_VZaGjhz4tD",
        "colab_type": "code",
        "colab": {}
      },
      "cell_type": "code",
      "source": [
        "tfidf = TfidfVectorizer(sublinear_tf=True, norm='l2', stop_words='english', min_df=8)\n",
        "features = tfidf.fit_transform(x_train)"
      ],
      "execution_count": 0,
      "outputs": []
    },
    {
      "metadata": {
        "id": "ruqd5DSIkT8j",
        "colab_type": "code",
        "colab": {}
      },
      "cell_type": "code",
      "source": [
        ""
      ],
      "execution_count": 0,
      "outputs": []
    },
    {
      "metadata": {
        "id": "sLdfyAfVz4tH",
        "colab_type": "code",
        "outputId": "4623d739-34ab-476b-cff8-e1b53f22b2b3",
        "colab": {
          "base_uri": "https://localhost:8080/",
          "height": 33
        }
      },
      "cell_type": "code",
      "source": [
        "features.shape"
      ],
      "execution_count": 10,
      "outputs": [
        {
          "output_type": "execute_result",
          "data": {
            "text/plain": [
              "(15802, 19671)"
            ]
          },
          "metadata": {
            "tags": []
          },
          "execution_count": 10
        }
      ]
    },
    {
      "metadata": {
        "id": "hqyJpC6ez4tt",
        "colab_type": "code",
        "colab": {}
      },
      "cell_type": "code",
      "source": [
        "# ['alt.atheism',0,0\n",
        "#  'comp.graphics',1,1\n",
        "#  'comp.os.ms-windows.misc',2,1\n",
        "#  'comp.sys.ibm.pc.hardware',3,1\n",
        "#  'comp.sys.mac.hardware',4,1\n",
        "#  'comp.windows.x',5,1\n",
        "#  'misc.forsale',6,1\n",
        "#  'rec.autos',7,0\n",
        "#  'rec.motorcycles',8,0\n",
        "#  'rec.sport.baseball',9.0\n",
        "#  'rec.sport.hockey',10,0\n",
        "#  'sci.crypt',11,1\n",
        "#  'sci.electronics',12,1\n",
        "#  'sci.med',13,1\n",
        "#  'sci.space',14,1\n",
        "#  'soc.religion.christian',15,0\n",
        "#  'talk.politics.guns',16,0\n",
        "#  'talk.politics.mideast',17,0\n",
        "#  'talk.politics.misc',18,0\n",
        "#  'talk.religion.misc',19,0]\n",
        "#  'business',20, 1\n",
        "#  'entertainment',21, 0\n",
        "#  'politics',22, 0\n",
        "#  'sport',23, 0\n",
        "#  'tech',24, 1\n",
        "\n",
        "tech = [1,2,3,4,5,6,11,12,13,14,20,24]\n"
      ],
      "execution_count": 0,
      "outputs": []
    },
    {
      "metadata": {
        "id": "5IGGr8Jjz4ty",
        "colab_type": "code",
        "colab": {}
      },
      "cell_type": "code",
      "source": [
        "bin_tr_y = np.isin(y_train.values, tech).astype(np.uint8)\n",
        "bin_tes_y = np.isin(y_test.values, tech).astype(np.uint8)"
      ],
      "execution_count": 0,
      "outputs": []
    },
    {
      "metadata": {
        "id": "07soFeKVz4tN",
        "colab_type": "code",
        "outputId": "68ea09ef-1a83-4c78-e448-6434967d9b19",
        "colab": {
          "base_uri": "https://localhost:8080/",
          "height": 33
        }
      },
      "cell_type": "code",
      "source": [
        "vectors_test = tfidf.transform(x_test)\n",
        "# np.savetxt('test_x', vectors_test.toarray()[:2])\n",
        "clf = MultinomialNB(alpha=.01)\n",
        "clf.fit(features, bin_tr_y)\n",
        "pred = clf.predict(vectors_test)\n",
        "accuracy_score(bin_tes_y, pred)"
      ],
      "execution_count": 13,
      "outputs": [
        {
          "output_type": "execute_result",
          "data": {
            "text/plain": [
              "0.9538724373576309"
            ]
          },
          "metadata": {
            "tags": []
          },
          "execution_count": 13
        }
      ]
    },
    {
      "metadata": {
        "colab_type": "code",
        "outputId": "11db1751-7ab5-4894-9f49-184969185b4e",
        "id": "WWxHxigv7dbp",
        "colab": {
          "base_uri": "https://localhost:8080/",
          "height": 33
        }
      },
      "cell_type": "code",
      "source": [
        "unique, counts = np.unique(bin_tr_y, return_counts=True)\n",
        "dict(zip(unique, counts))"
      ],
      "execution_count": 14,
      "outputs": [
        {
          "output_type": "execute_result",
          "data": {
            "text/plain": [
              "{0: 8476, 1: 7326}"
            ]
          },
          "metadata": {
            "tags": []
          },
          "execution_count": 14
        }
      ]
    },
    {
      "metadata": {
        "id": "usZwaHdoz4tT",
        "colab_type": "text"
      },
      "cell_type": "markdown",
      "source": [
        "### Model & train"
      ]
    },
    {
      "metadata": {
        "id": "JwCbVAW5z4tV",
        "colab_type": "code",
        "outputId": "5b06366d-6f65-47c7-e8d1-ee70bebd7134",
        "colab": {
          "base_uri": "https://localhost:8080/",
          "height": 33
        }
      },
      "cell_type": "code",
      "source": [
        "from keras.models import Sequential\n",
        "from keras.layers import Conv2D, MaxPooling2D\n",
        "from keras.layers import Activation, Dropout, Flatten, Dense\n",
        "from keras.regularizers import l2\n",
        "from keras.callbacks import EarlyStopping\n",
        "import keras"
      ],
      "execution_count": 15,
      "outputs": [
        {
          "output_type": "stream",
          "text": [
            "Using TensorFlow backend.\n"
          ],
          "name": "stderr"
        }
      ]
    },
    {
      "metadata": {
        "id": "KEtYp36wz4td",
        "colab_type": "code",
        "colab": {}
      },
      "cell_type": "code",
      "source": [
        "simple_model = Sequential([Dense(100,activation='relu', input_dim=features.shape[1], kernel_regularizer=l2(0.01)),\n",
        "                           Dropout(0.5, noise_shape=None, seed=None),\n",
        "                           Dense(100,activation='relu', kernel_regularizer=l2(0.01)),\n",
        "                           Dropout(0.3, noise_shape=None, seed=None),\n",
        "                           Dense(1,activation='sigmoid')])\n",
        "\n",
        "ES_callback = EarlyStopping(monitor='val_loss', min_delta=0.00005, patience=4)\n",
        "\n",
        "# define the checkpoint\n",
        "filepath=\"weights-improvement-{epoch:02d}-{loss:.4f}-{acc:.4f}.hdf5\"\n",
        "checkpoint = keras.callbacks.ModelCheckpoint(filepath, monitor='loss', verbose=1, save_best_only=True, mode='min')"
      ],
      "execution_count": 0,
      "outputs": []
    },
    {
      "metadata": {
        "id": "so502uAKz4ti",
        "colab_type": "code",
        "colab": {}
      },
      "cell_type": "code",
      "source": [
        "simple_model.compile(loss='binary_crossentropy',\n",
        "                     optimizer='adam',\n",
        "                     metrics=['accuracy'])"
      ],
      "execution_count": 0,
      "outputs": []
    },
    {
      "metadata": {
        "id": "78E9qE3mz4to",
        "colab_type": "code",
        "colab": {
          "base_uri": "https://localhost:8080/",
          "height": 293
        },
        "outputId": "9eb0fa7c-9138-4b55-b828-b2af0278c736"
      },
      "cell_type": "code",
      "source": [
        "simple_model.summary()"
      ],
      "execution_count": 18,
      "outputs": [
        {
          "output_type": "stream",
          "text": [
            "_________________________________________________________________\n",
            "Layer (type)                 Output Shape              Param #   \n",
            "=================================================================\n",
            "dense_1 (Dense)              (None, 100)               1967200   \n",
            "_________________________________________________________________\n",
            "dropout_1 (Dropout)          (None, 100)               0         \n",
            "_________________________________________________________________\n",
            "dense_2 (Dense)              (None, 100)               10100     \n",
            "_________________________________________________________________\n",
            "dropout_2 (Dropout)          (None, 100)               0         \n",
            "_________________________________________________________________\n",
            "dense_3 (Dense)              (None, 1)                 101       \n",
            "=================================================================\n",
            "Total params: 1,977,401\n",
            "Trainable params: 1,977,401\n",
            "Non-trainable params: 0\n",
            "_________________________________________________________________\n"
          ],
          "name": "stdout"
        }
      ]
    },
    {
      "metadata": {
        "id": "YSF-GgmSz4uI",
        "colab_type": "code",
        "colab": {
          "base_uri": "https://localhost:8080/",
          "height": 2113
        },
        "outputId": "88707c50-742d-4f9d-c36b-700c4d760ce8"
      },
      "cell_type": "code",
      "source": [
        "model_output= simple_model.fit(features,\n",
        "                               bin_tr_y,\n",
        "                               batch_size=256,\n",
        "                               epochs=40,\n",
        "                               verbose=1,\n",
        "                               validation_data=(vectors_test, bin_tes_y),\n",
        "                               callbacks=[ES_callback, checkpoint])"
      ],
      "execution_count": 19,
      "outputs": [
        {
          "output_type": "stream",
          "text": [
            "Train on 15802 samples, validate on 5268 samples\n",
            "Epoch 1/40\n",
            "15802/15802 [==============================] - 5s 333us/step - loss: 1.4827 - acc: 0.6602 - val_loss: 0.9558 - val_acc: 0.8565\n",
            "\n",
            "Epoch 00001: loss improved from inf to 1.48270, saving model to weights-improvement-01-1.4827-0.6602.hdf5\n",
            "Epoch 2/40\n",
            "15802/15802 [==============================] - 3s 181us/step - loss: 0.7970 - acc: 0.8825 - val_loss: 0.6653 - val_acc: 0.9330\n",
            "\n",
            "Epoch 00002: loss improved from 1.48270 to 0.79701, saving model to weights-improvement-02-0.7970-0.8825.hdf5\n",
            "Epoch 3/40\n",
            "15802/15802 [==============================] - 3s 181us/step - loss: 0.6233 - acc: 0.9160 - val_loss: 0.5662 - val_acc: 0.9339\n",
            "\n",
            "Epoch 00003: loss improved from 0.79701 to 0.62331, saving model to weights-improvement-03-0.6233-0.9160.hdf5\n",
            "Epoch 4/40\n",
            "15802/15802 [==============================] - 3s 180us/step - loss: 0.5623 - acc: 0.9234 - val_loss: 0.5332 - val_acc: 0.9334\n",
            "\n",
            "Epoch 00004: loss improved from 0.62331 to 0.56233, saving model to weights-improvement-04-0.5623-0.9234.hdf5\n",
            "Epoch 5/40\n",
            "15802/15802 [==============================] - 3s 180us/step - loss: 0.5327 - acc: 0.9318 - val_loss: 0.5114 - val_acc: 0.9491\n",
            "\n",
            "Epoch 00005: loss improved from 0.56233 to 0.53274, saving model to weights-improvement-05-0.5327-0.9318.hdf5\n",
            "Epoch 6/40\n",
            "15802/15802 [==============================] - 3s 178us/step - loss: 0.5178 - acc: 0.9375 - val_loss: 0.4982 - val_acc: 0.9531\n",
            "\n",
            "Epoch 00006: loss improved from 0.53274 to 0.51781, saving model to weights-improvement-06-0.5178-0.9375.hdf5\n",
            "Epoch 7/40\n",
            "15802/15802 [==============================] - 3s 177us/step - loss: 0.5048 - acc: 0.9399 - val_loss: 0.4835 - val_acc: 0.9514\n",
            "\n",
            "Epoch 00007: loss improved from 0.51781 to 0.50481, saving model to weights-improvement-07-0.5048-0.9399.hdf5\n",
            "Epoch 8/40\n",
            "15802/15802 [==============================] - 3s 177us/step - loss: 0.4941 - acc: 0.9403 - val_loss: 0.4776 - val_acc: 0.9544\n",
            "\n",
            "Epoch 00008: loss improved from 0.50481 to 0.49411, saving model to weights-improvement-08-0.4941-0.9403.hdf5\n",
            "Epoch 9/40\n",
            "15802/15802 [==============================] - 3s 175us/step - loss: 0.4843 - acc: 0.9448 - val_loss: 0.4691 - val_acc: 0.9543\n",
            "\n",
            "Epoch 00009: loss improved from 0.49411 to 0.48434, saving model to weights-improvement-09-0.4843-0.9448.hdf5\n",
            "Epoch 10/40\n",
            "15802/15802 [==============================] - 3s 177us/step - loss: 0.4773 - acc: 0.9444 - val_loss: 0.4626 - val_acc: 0.9537\n",
            "\n",
            "Epoch 00010: loss improved from 0.48434 to 0.47730, saving model to weights-improvement-10-0.4773-0.9444.hdf5\n",
            "Epoch 11/40\n",
            "15802/15802 [==============================] - 3s 177us/step - loss: 0.4700 - acc: 0.9487 - val_loss: 0.4583 - val_acc: 0.9567\n",
            "\n",
            "Epoch 00011: loss improved from 0.47730 to 0.46997, saving model to weights-improvement-11-0.4700-0.9487.hdf5\n",
            "Epoch 12/40\n",
            "15802/15802 [==============================] - 3s 179us/step - loss: 0.4619 - acc: 0.9475 - val_loss: 0.4500 - val_acc: 0.9560\n",
            "\n",
            "Epoch 00012: loss improved from 0.46997 to 0.46189, saving model to weights-improvement-12-0.4619-0.9475.hdf5\n",
            "Epoch 13/40\n",
            "15802/15802 [==============================] - 3s 176us/step - loss: 0.4538 - acc: 0.9498 - val_loss: 0.4466 - val_acc: 0.9533\n",
            "\n",
            "Epoch 00013: loss improved from 0.46189 to 0.45380, saving model to weights-improvement-13-0.4538-0.9498.hdf5\n",
            "Epoch 14/40\n",
            "15802/15802 [==============================] - 3s 179us/step - loss: 0.4524 - acc: 0.9475 - val_loss: 0.4421 - val_acc: 0.9571\n",
            "\n",
            "Epoch 00014: loss improved from 0.45380 to 0.45241, saving model to weights-improvement-14-0.4524-0.9475.hdf5\n",
            "Epoch 15/40\n",
            "15802/15802 [==============================] - 3s 179us/step - loss: 0.4469 - acc: 0.9485 - val_loss: 0.4361 - val_acc: 0.9569\n",
            "\n",
            "Epoch 00015: loss improved from 0.45241 to 0.44688, saving model to weights-improvement-15-0.4469-0.9485.hdf5\n",
            "Epoch 16/40\n",
            "15802/15802 [==============================] - 3s 179us/step - loss: 0.4449 - acc: 0.9506 - val_loss: 0.4351 - val_acc: 0.9527\n",
            "\n",
            "Epoch 00016: loss improved from 0.44688 to 0.44494, saving model to weights-improvement-16-0.4449-0.9506.hdf5\n",
            "Epoch 17/40\n",
            "15802/15802 [==============================] - 3s 178us/step - loss: 0.4378 - acc: 0.9501 - val_loss: 0.4288 - val_acc: 0.9573\n",
            "\n",
            "Epoch 00017: loss improved from 0.44494 to 0.43783, saving model to weights-improvement-17-0.4378-0.9501.hdf5\n",
            "Epoch 18/40\n",
            "15802/15802 [==============================] - 3s 179us/step - loss: 0.4376 - acc: 0.9497 - val_loss: 0.4308 - val_acc: 0.9569\n",
            "\n",
            "Epoch 00018: loss improved from 0.43783 to 0.43757, saving model to weights-improvement-18-0.4376-0.9497.hdf5\n",
            "Epoch 19/40\n",
            "15802/15802 [==============================] - 3s 178us/step - loss: 0.4338 - acc: 0.9497 - val_loss: 0.4269 - val_acc: 0.9558\n",
            "\n",
            "Epoch 00019: loss improved from 0.43757 to 0.43377, saving model to weights-improvement-19-0.4338-0.9497.hdf5\n",
            "Epoch 20/40\n",
            "15802/15802 [==============================] - 3s 178us/step - loss: 0.4281 - acc: 0.9534 - val_loss: 0.4249 - val_acc: 0.9546\n",
            "\n",
            "Epoch 00020: loss improved from 0.43377 to 0.42810, saving model to weights-improvement-20-0.4281-0.9534.hdf5\n",
            "Epoch 21/40\n",
            "15802/15802 [==============================] - 3s 178us/step - loss: 0.4232 - acc: 0.9544 - val_loss: 0.4196 - val_acc: 0.9544\n",
            "\n",
            "Epoch 00021: loss improved from 0.42810 to 0.42323, saving model to weights-improvement-21-0.4232-0.9544.hdf5\n",
            "Epoch 22/40\n",
            "15802/15802 [==============================] - 3s 178us/step - loss: 0.4250 - acc: 0.9519 - val_loss: 0.4161 - val_acc: 0.9558\n",
            "\n",
            "Epoch 00022: loss did not improve from 0.42323\n",
            "Epoch 23/40\n",
            "15802/15802 [==============================] - 3s 179us/step - loss: 0.4144 - acc: 0.9560 - val_loss: 0.4147 - val_acc: 0.9552\n",
            "\n",
            "Epoch 00023: loss improved from 0.42323 to 0.41437, saving model to weights-improvement-23-0.4144-0.9560.hdf5\n",
            "Epoch 24/40\n",
            "15802/15802 [==============================] - 3s 180us/step - loss: 0.4145 - acc: 0.9536 - val_loss: 0.4177 - val_acc: 0.9541\n",
            "\n",
            "Epoch 00024: loss did not improve from 0.41437\n",
            "Epoch 25/40\n",
            "15802/15802 [==============================] - 3s 181us/step - loss: 0.4130 - acc: 0.9548 - val_loss: 0.4114 - val_acc: 0.9565\n",
            "\n",
            "Epoch 00025: loss improved from 0.41437 to 0.41304, saving model to weights-improvement-25-0.4130-0.9548.hdf5\n",
            "Epoch 26/40\n",
            "15802/15802 [==============================] - 3s 177us/step - loss: 0.4110 - acc: 0.9546 - val_loss: 0.4133 - val_acc: 0.9584\n",
            "\n",
            "Epoch 00026: loss improved from 0.41304 to 0.41096, saving model to weights-improvement-26-0.4110-0.9546.hdf5\n",
            "Epoch 27/40\n",
            "15802/15802 [==============================] - 3s 180us/step - loss: 0.4050 - acc: 0.9567 - val_loss: 0.4151 - val_acc: 0.9520\n",
            "\n",
            "Epoch 00027: loss improved from 0.41096 to 0.40503, saving model to weights-improvement-27-0.4050-0.9567.hdf5\n",
            "Epoch 28/40\n",
            "15802/15802 [==============================] - 3s 178us/step - loss: 0.4019 - acc: 0.9564 - val_loss: 0.4025 - val_acc: 0.9550\n",
            "\n",
            "Epoch 00028: loss improved from 0.40503 to 0.40194, saving model to weights-improvement-28-0.4019-0.9564.hdf5\n",
            "Epoch 29/40\n",
            "15802/15802 [==============================] - 3s 183us/step - loss: 0.4002 - acc: 0.9564 - val_loss: 0.4107 - val_acc: 0.9569\n",
            "\n",
            "Epoch 00029: loss improved from 0.40194 to 0.40023, saving model to weights-improvement-29-0.4002-0.9564.hdf5\n",
            "Epoch 30/40\n",
            "15802/15802 [==============================] - 3s 178us/step - loss: 0.4022 - acc: 0.9574 - val_loss: 0.4043 - val_acc: 0.9575\n",
            "\n",
            "Epoch 00030: loss did not improve from 0.40023\n",
            "Epoch 31/40\n",
            "15802/15802 [==============================] - 3s 178us/step - loss: 0.4040 - acc: 0.9552 - val_loss: 0.4051 - val_acc: 0.9573\n",
            "\n",
            "Epoch 00031: loss did not improve from 0.40023\n",
            "Epoch 32/40\n",
            "15802/15802 [==============================] - 3s 176us/step - loss: 0.3940 - acc: 0.9580 - val_loss: 0.4041 - val_acc: 0.9520\n",
            "\n",
            "Epoch 00032: loss improved from 0.40023 to 0.39401, saving model to weights-improvement-32-0.3940-0.9580.hdf5\n"
          ],
          "name": "stdout"
        }
      ]
    },
    {
      "metadata": {
        "id": "hLpdSv-M2_EB",
        "colab_type": "text"
      },
      "cell_type": "markdown",
      "source": [
        "#### Saving the most successful weighted model"
      ]
    },
    {
      "metadata": {
        "id": "8h78kLn2T7MY",
        "colab_type": "code",
        "colab": {}
      },
      "cell_type": "code",
      "source": [
        "simple_model = Sequential([Dense(100,activation='relu', input_dim=features.shape[1], kernel_regularizer=l2(0.01)),\n",
        "                           Dropout(0.5, noise_shape=None, seed=None),\n",
        "                           Dense(100,activation='relu', kernel_regularizer=l2(0.01)),\n",
        "                           Dropout(0.3, noise_shape=None, seed=None),\n",
        "                           Dense(1,activation='sigmoid')])\n",
        "\n",
        "simple_model.load_weights('cudnn-overfitting-bigdata-weights-improvement-14-0.4001-0.9642.hdf5')\n",
        "\n",
        "simple_model.compile(loss='binary_crossentropy',\n",
        "                     optimizer='adam',\n",
        "                     metrics=['accuracy'])"
      ],
      "execution_count": 0,
      "outputs": []
    },
    {
      "metadata": {
        "id": "9I9suqxZb_sb",
        "colab_type": "code",
        "outputId": "beb530b4-88e8-4f18-af67-cfece719d5f7",
        "colab": {
          "base_uri": "https://localhost:8080/",
          "height": 151
        }
      },
      "cell_type": "code",
      "source": [
        "!pip install tensorflowjs"
      ],
      "execution_count": 0,
      "outputs": [
        {
          "output_type": "stream",
          "text": [
            "Collecting tensorflowjs\n",
            "  Downloading https://files.pythonhosted.org/packages/8c/d3/f534d1d042465e0e66a04b0fa31dc1f13cfea7d8340017ef4cd649b9c3a0/tensorflowjs-0.6.7-py3-none-any.whl\n",
            "Requirement already satisfied: tensorflow==1.12.0 in /usr/local/lib/python3.6/dist-packages (from tensorflowjs) (1.12.0)\n",
            "Collecting numpy==1.15.1 (from tensorflowjs)\n",
            "\u001b[?25l  Downloading https://files.pythonhosted.org/packages/fe/94/7049fed8373c52839c8cde619acaf2c9b83082b935e5aa8c0fa27a4a8bcc/numpy-1.15.1-cp36-cp36m-manylinux1_x86_64.whl (13.9MB)\n",
            "\u001b[K    15% |████▉                           | 2.1MB 41.3MB/s eta 0:00:01\n",
            "\u001b[31mOperation cancelled by user\u001b[0m\n",
            "\u001b[?25h"
          ],
          "name": "stdout"
        }
      ]
    },
    {
      "metadata": {
        "id": "PRYUNl_l9OKL",
        "colab_type": "code",
        "colab": {}
      },
      "cell_type": "code",
      "source": [
        "import tensorflowjs as tfjs\n",
        "tfjs.converters.save_keras_model(simple_model, 'model_stillnotfat')"
      ],
      "execution_count": 0,
      "outputs": []
    },
    {
      "metadata": {
        "id": "BL9WsrMIzpvd",
        "colab_type": "text"
      },
      "cell_type": "markdown",
      "source": [
        "#### Manual trial"
      ]
    },
    {
      "metadata": {
        "id": "HzrAwBS2zvjA",
        "colab_type": "code",
        "colab": {}
      },
      "cell_type": "code",
      "source": [
        "# text = 'i want to use this classifier for a commercial project. It is light-weighted and can work in a chrome plugin'\n",
        "# text = 'i care for my country very much, vote for me. believeme, i will be the best president you have ever known'\n",
        "# text = 'This ballet style is often performed barefoot. Contemporary ballets may include mime and acting, and are usually set to music (typically orchestral but occasionally vocal). It can be difficult to differentiate this form from neoclassical or modern ballet. Contemporary ballet is also close to contemporary dance, because many contemporary ballet concepts come from the ideas and innovations of twentieth-century modern dance, including floor work and turn-in of the legs. The main distinction is that ballet technique is essential to perform a contemporary ballet.George Balanchine is considered to have been a pioneer of contemporary ballet. Another early contemporary ballet choreographer, Twyla Tharp, choreographed Push Comes To Shove for the American Ballet Theatre in 1976, and in 1986 created In The Upper Room for her own company. Both of these pieces were considered innovative for their melding of distinctly modern movements with the use of pointe shoes and classically trained dancers.Today there are many contemporary ballet companies and choreographers. These include Alonzo King and his company LINES Ballet; Matthew Bourne and his company New Adventures; Complexions Contemporary Ballet; Nacho Duato and his Compañia Nacional de Danza; William Forsythe and The Forsythe Company; and Jiří Kylián of the Nederlands Dans Theater. Traditionally \"classical\" companies, such as the Mariinsky (Kirov) Ballet and the Paris Opera Ballet, also regularly perform contemporary works.The term ballet has evolved to include all forms associated with it. Someone training as a ballet dancer will now be expected to perform neoclassical, modern and contemporary work. A ballet dancer is expected to be able to be stately and regal for classical work, free and lyrical in neoclassical work, and unassuming, harsh or pedestrian for modern and contemporary work. In addition, there are several modern varieties of dance that fuse classical ballet technique with contemporary dance, such as Hiplet, that require dancers to be practised in non-Western dance styles.'\n",
        "# text='The first thing that comes into our minds while thinking of employees at tech companies is probably Software Engineers and Data Scientists. But a technology company requires employees beyond those in technical roles, so they hire for non-tech roles too. The current scenario at the job market doesn’t necessarily require you to be a tech pro to get hired by technology companies. As the growth tech companies increases, they need more non-technical workforce to help transform their technology into revenue. Roles such as sales, marketing, business operation, etc. are crucial to their expansion. These highly coveted positions are also well compensated by tech employers.'\n",
        "text = '''As part of an effort to reduce noise in Ghana’s capital, Accra, the environment minister has suggested that the Muslim call to prayer, normally broadcast over loudspeakers across the city, should instead be sent out on WhatsApp. The notion has proved immensely unpopular – not least because it equates the call to prayer with noise pollution. But it also highlights religion’s growing, if sometimes uneasy, reliance on tech.\n",
        "\n",
        "Contactless collection Catholic and Protestant churches in the UK have begun using contactless card readers for donations and other payments, hoping to make life easier for parishioners who may not be carrying cash. A contactless collection plate is being trialled by the Church of England, but it is being held up because it is feared the technology might slow things down.\n",
        "\n",
        "The confession app Confession (version 2.1) walks sinners through the business of confession, pings you push notifications when it’s time for your next shriving and includes a handy sin checklist in case you have forgotten what you’ve done wrong. What it doesn’t do is offer absolution. You still need a priest for that.\n",
        "\n",
        "Televangelist tech American TV preachers tend to be at home in the digital realm, particularly those espousing “prosperity theology”, which holds that God rewards the pious with material wealth. It works for them, anyway. Controversial televangelist Joel Osteen’s free app offers daily devotional messages and sermons. And Creflo Dollar’s latest app boasts a “give” feature that makes handing your money over to Creflo A Dollar Ministries as easy as gambling. Webcast rites Funerals broadcast online are at least a decade old. Many UK crematoria now offer it as part of the package, and rabbis and vicars routinely officiate at live-streamed services. It is not quite the same as being there, but in many cases it’s probably preferable.Halal apps There are several apps that help Muslims find halal restaurants and stores in the immediate area . There is even one – Scan Halal – that allows you to scan the barcode of any food in a supermarket to instantly determine whether it contains non-halal ingredients. Online reviews for this idea are decidedly mixed.'\n",
        "'''\n",
        "\n"
      ],
      "execution_count": 0,
      "outputs": []
    },
    {
      "metadata": {
        "id": "-IQb64pnzx76",
        "colab_type": "code",
        "colab": {}
      },
      "cell_type": "code",
      "source": [
        "\n",
        "transformed = tfidf.transform([text])"
      ],
      "execution_count": 0,
      "outputs": []
    },
    {
      "metadata": {
        "id": "u1ZHUElQzx3Y",
        "colab_type": "code",
        "outputId": "b74365ca-5ee6-451c-fc4f-62d0067dc977",
        "colab": {
          "base_uri": "https://localhost:8080/",
          "height": 33
        }
      },
      "cell_type": "code",
      "source": [
        "\n",
        "simple_model.predict(transformed)\n"
      ],
      "execution_count": 0,
      "outputs": [
        {
          "output_type": "execute_result",
          "data": {
            "text/plain": [
              "array([[0.20854598]], dtype=float32)"
            ]
          },
          "metadata": {
            "tags": []
          },
          "execution_count": 76
        }
      ]
    },
    {
      "metadata": {
        "id": "XEn2SAdM4QNn",
        "colab_type": "text"
      },
      "cell_type": "markdown",
      "source": [
        "#### Save data for further tf-idf vectorization"
      ]
    },
    {
      "metadata": {
        "id": "qJQS692466SL",
        "colab_type": "code",
        "colab": {}
      },
      "cell_type": "code",
      "source": [
        "open('tfidf_vocab.json', 'w').write(str(tfidf.vocabulary_))"
      ],
      "execution_count": 0,
      "outputs": []
    },
    {
      "metadata": {
        "id": "ZyNDO2-j-mbx",
        "colab_type": "code",
        "colab": {}
      },
      "cell_type": "code",
      "source": [
        "np.savetxt('idf.csv', tfidf.idf_, delimiter=',')"
      ],
      "execution_count": 0,
      "outputs": []
    },
    {
      "metadata": {
        "id": "xefiDF5NiNIt",
        "colab_type": "code",
        "colab": {}
      },
      "cell_type": "code",
      "source": [
        "dictionary = tfidf.vocabulary_\n",
        "dictionary"
      ],
      "execution_count": 0,
      "outputs": []
    },
    {
      "metadata": {
        "id": "mdnYwtrolQov",
        "colab_type": "code",
        "colab": {}
      },
      "cell_type": "code",
      "source": [
        "idf=tfidf.idf_"
      ],
      "execution_count": 0,
      "outputs": []
    },
    {
      "metadata": {
        "id": "a1m2vVNYzx1f",
        "colab_type": "code",
        "colab": {}
      },
      "cell_type": "code",
      "source": [
        "new_tfidf = TfidfVectorizer(sublinear_tf=True, norm='l2', ngram_range=(1, 2), stop_words='english', min_df=8, vocabulary=dictionary)"
      ],
      "execution_count": 0,
      "outputs": []
    },
    {
      "metadata": {
        "id": "viiSVj4G4lz3",
        "colab_type": "code",
        "colab": {}
      },
      "cell_type": "code",
      "source": [
        "new_tfidf.idf_ = idf"
      ],
      "execution_count": 0,
      "outputs": []
    },
    {
      "metadata": {
        "id": "tAi2GmC0zxxc",
        "colab_type": "code",
        "colab": {}
      },
      "cell_type": "code",
      "source": [
        "transformed = new_tfidf.transform([text])"
      ],
      "execution_count": 0,
      "outputs": []
    },
    {
      "metadata": {
        "id": "6q8QG549kety",
        "colab_type": "code",
        "outputId": "32b2b8b3-6032-4d10-9d5a-d061f0075b70",
        "colab": {
          "base_uri": "https://localhost:8080/",
          "height": 33
        }
      },
      "cell_type": "code",
      "source": [
        "transformed.shape"
      ],
      "execution_count": 0,
      "outputs": [
        {
          "output_type": "execute_result",
          "data": {
            "text/plain": [
              "(1, 33833)"
            ]
          },
          "metadata": {
            "tags": []
          },
          "execution_count": 25
        }
      ]
    },
    {
      "metadata": {
        "id": "3VTzpa4U9SKG",
        "colab_type": "text"
      },
      "cell_type": "markdown",
      "source": [
        "#### Grid search"
      ]
    },
    {
      "metadata": {
        "id": "aGHVs1R29W-o",
        "colab_type": "code",
        "colab": {}
      },
      "cell_type": "code",
      "source": [
        ""
      ],
      "execution_count": 0,
      "outputs": []
    },
    {
      "metadata": {
        "id": "XDD-z_bw9W8d",
        "colab_type": "code",
        "colab": {}
      },
      "cell_type": "code",
      "source": [
        ""
      ],
      "execution_count": 0,
      "outputs": []
    },
    {
      "metadata": {
        "id": "6PZ9pMbZ9W53",
        "colab_type": "code",
        "colab": {}
      },
      "cell_type": "code",
      "source": [
        ""
      ],
      "execution_count": 0,
      "outputs": []
    },
    {
      "metadata": {
        "id": "76JkiZAr9W1P",
        "colab_type": "code",
        "colab": {}
      },
      "cell_type": "code",
      "source": [
        ""
      ],
      "execution_count": 0,
      "outputs": []
    },
    {
      "metadata": {
        "id": "oD-K6FJA9Wyv",
        "colab_type": "code",
        "colab": {}
      },
      "cell_type": "code",
      "source": [
        ""
      ],
      "execution_count": 0,
      "outputs": []
    },
    {
      "metadata": {
        "id": "abR4IQUDDby_",
        "colab_type": "text"
      },
      "cell_type": "markdown",
      "source": [
        "### categorical classification trial"
      ]
    },
    {
      "metadata": {
        "id": "r5uFJ0IJz4uB",
        "colab_type": "code",
        "colab": {}
      },
      "cell_type": "code",
      "source": [
        "from keras.utils import to_categorical\n",
        "train_target = to_categorical(train.target)\n",
        "test_target = to_categorical(test.target)"
      ],
      "execution_count": 0,
      "outputs": []
    },
    {
      "metadata": {
        "id": "oikoNH9_DWbZ",
        "colab_type": "code",
        "colab": {}
      },
      "cell_type": "code",
      "source": [
        "simple_model_cat = Sequential([Dense(100,activation='relu', input_dim=1186545, kernel_regularizer=l2(0.01)),\n",
        "                           Dropout(0.3, noise_shape=None, seed=None),\n",
        "                           Dense(100,activation='relu', kernel_regularizer=l2(0.01)),\n",
        "                           Dropout(0.3, noise_shape=None, seed=None),\n",
        "                           Dense(1,activation='softmax')])"
      ],
      "execution_count": 0,
      "outputs": []
    },
    {
      "metadata": {
        "id": "19OypFTBDWW-",
        "colab_type": "code",
        "colab": {}
      },
      "cell_type": "code",
      "source": [
        "simple_model_cat.compile(loss='sparse_categorical_crossentropy', optimizer='adam', metrics=['accuracy'])"
      ],
      "execution_count": 0,
      "outputs": []
    },
    {
      "metadata": {
        "id": "a8fBOn6TDWTW",
        "colab_type": "code",
        "outputId": "2791c739-2c4e-44d0-882f-67ebfdccb742",
        "colab": {
          "base_uri": "https://localhost:8080/",
          "height": 306
        }
      },
      "cell_type": "code",
      "source": [
        "simple_model_cat.summary()"
      ],
      "execution_count": 0,
      "outputs": [
        {
          "output_type": "stream",
          "text": [
            "_________________________________________________________________\n",
            "Layer (type)                 Output Shape              Param #   \n",
            "=================================================================\n",
            "dense_4 (Dense)              (None, 100)               118654600 \n",
            "_________________________________________________________________\n",
            "dropout_3 (Dropout)          (None, 100)               0         \n",
            "_________________________________________________________________\n",
            "dense_5 (Dense)              (None, 100)               10100     \n",
            "_________________________________________________________________\n",
            "dropout_4 (Dropout)          (None, 100)               0         \n",
            "_________________________________________________________________\n",
            "dense_6 (Dense)              (None, 1)                 101       \n",
            "=================================================================\n",
            "Total params: 118,664,801\n",
            "Trainable params: 118,664,801\n",
            "Non-trainable params: 0\n",
            "_________________________________________________________________\n"
          ],
          "name": "stdout"
        }
      ]
    },
    {
      "metadata": {
        "id": "GKcKXDDznsNo",
        "colab_type": "code",
        "colab": {}
      },
      "cell_type": "code",
      "source": [
        ""
      ],
      "execution_count": 0,
      "outputs": []
    },
    {
      "metadata": {
        "id": "3wWeWxpuDWRM",
        "colab_type": "code",
        "colab": {}
      },
      "cell_type": "code",
      "source": [
        "model_output= simple_model_cat.fit(features, train.target, epochs=5, verbose=1,\n",
        "                               validation_data=(vectors_test, test.target))"
      ],
      "execution_count": 0,
      "outputs": []
    }
  ]
}