{
  "nbformat": 4,
  "nbformat_minor": 0,
  "metadata": {
    "colab": {
      "name": "model.ipynb",
      "version": "0.3.2",
      "provenance": [],
      "collapsed_sections": [],
      "include_colab_link": true
    },
    "kernelspec": {
      "name": "python3",
      "display_name": "Python 3"
    },
    "accelerator": "GPU"
  },
  "cells": [
    {
      "cell_type": "markdown",
      "metadata": {
        "id": "view-in-github",
        "colab_type": "text"
      },
      "source": [
        "<a href=\"https://colab.research.google.com/github/Marytem/practice_2019/blob/master/model.ipynb\" target=\"_parent\"><img src=\"https://colab.research.google.com/assets/colab-badge.svg\" alt=\"Open In Colab\"/></a>"
      ]
    },
    {
      "metadata": {
        "id": "4d2LEhoBz4sp",
        "colab_type": "text"
      },
      "cell_type": "markdown",
      "source": [
        "### Temporary dataset preprocessing"
      ]
    },
    {
      "metadata": {
        "id": "aYiSMk1Jz4sq",
        "colab_type": "code",
        "colab": {}
      },
      "cell_type": "code",
      "source": [
        "import numpy as np\n",
        "import pandas as pd\n",
        "from sklearn.datasets import fetch_20newsgroups\n",
        "from sklearn.feature_extraction.text import TfidfVectorizer\n",
        "from sklearn.naive_bayes import MultinomialNB\n",
        "from sklearn.metrics import accuracy_score"
      ],
      "execution_count": 0,
      "outputs": []
    },
    {
      "metadata": {
        "id": "Hs8f3E2pz4sw",
        "colab_type": "code",
        "colab": {}
      },
      "cell_type": "code",
      "source": [
        "train = fetch_20newsgroups(subset='train')\n",
        "test = fetch_20newsgroups(subset='test')"
      ],
      "execution_count": 0,
      "outputs": []
    },
    {
      "metadata": {
        "id": "U_AMR0SNz4s1",
        "colab_type": "code",
        "outputId": "7b47882c-d538-4eae-e245-734bbf4db8d3",
        "colab": {
          "base_uri": "https://localhost:8080/",
          "height": 34
        }
      },
      "cell_type": "code",
      "source": [
        "print(type(train.data))"
      ],
      "execution_count": 0,
      "outputs": [
        {
          "output_type": "stream",
          "text": [
            "<class 'list'>\n"
          ],
          "name": "stdout"
        }
      ]
    },
    {
      "metadata": {
        "id": "A1-zZnSQz4s9",
        "colab_type": "code",
        "outputId": "d8199232-3485-437d-a8ed-2c2caf83b9b5",
        "colab": {
          "base_uri": "https://localhost:8080/",
          "height": 34
        }
      },
      "cell_type": "code",
      "source": [
        "train.target"
      ],
      "execution_count": 0,
      "outputs": [
        {
          "output_type": "execute_result",
          "data": {
            "text/plain": [
              "array([7, 4, 4, ..., 3, 1, 8])"
            ]
          },
          "metadata": {
            "tags": []
          },
          "execution_count": 4
        }
      ]
    },
    {
      "metadata": {
        "id": "p_VZaGjhz4tD",
        "colab_type": "code",
        "colab": {}
      },
      "cell_type": "code",
      "source": [
        "tfidf = TfidfVectorizer(sublinear_tf=True, norm='l2', ngram_range=(1, 2), stop_words='english')\n",
        "features = tfidf.fit_transform(train.data)"
      ],
      "execution_count": 0,
      "outputs": []
    },
    {
      "metadata": {
        "id": "sLdfyAfVz4tH",
        "colab_type": "code",
        "outputId": "0333c5d8-b8cc-4a85-d813-ef88d752194b",
        "colab": {
          "base_uri": "https://localhost:8080/",
          "height": 34
        }
      },
      "cell_type": "code",
      "source": [
        "features.shape"
      ],
      "execution_count": 0,
      "outputs": [
        {
          "output_type": "execute_result",
          "data": {
            "text/plain": [
              "(11314, 1186545)"
            ]
          },
          "metadata": {
            "tags": []
          },
          "execution_count": 6
        }
      ]
    },
    {
      "metadata": {
        "id": "07soFeKVz4tN",
        "colab_type": "code",
        "outputId": "719af48c-ca64-4b37-fc54-53a82a4d00b4",
        "colab": {
          "base_uri": "https://localhost:8080/",
          "height": 34
        }
      },
      "cell_type": "code",
      "source": [
        "vectors_test = tfidf.transform(test.data)\n",
        "clf = MultinomialNB(alpha=.01)\n",
        "clf.fit(features, bin_tr_y)\n",
        "pred = clf.predict(vectors_test)\n",
        "accuracy_score(bin_tes_x, pred)"
      ],
      "execution_count": 0,
      "outputs": [
        {
          "output_type": "execute_result",
          "data": {
            "text/plain": [
              "0.9641529474243229"
            ]
          },
          "metadata": {
            "tags": []
          },
          "execution_count": 10
        }
      ]
    },
    {
      "metadata": {
        "id": "usZwaHdoz4tT",
        "colab_type": "text"
      },
      "cell_type": "markdown",
      "source": [
        "### Model"
      ]
    },
    {
      "metadata": {
        "id": "JwCbVAW5z4tV",
        "colab_type": "code",
        "outputId": "92c4849b-3c53-4492-a3ef-be38096d92c0",
        "colab": {
          "base_uri": "https://localhost:8080/",
          "height": 34
        }
      },
      "cell_type": "code",
      "source": [
        "from keras.models import Sequential\n",
        "from keras.layers import Conv2D, MaxPooling2D\n",
        "from keras.layers import Activation, Dropout, Flatten, Dense\n",
        "from keras.regularizers import l2"
      ],
      "execution_count": 0,
      "outputs": [
        {
          "output_type": "stream",
          "text": [
            "Using TensorFlow backend.\n"
          ],
          "name": "stderr"
        }
      ]
    },
    {
      "metadata": {
        "id": "KEtYp36wz4td",
        "colab_type": "code",
        "colab": {}
      },
      "cell_type": "code",
      "source": [
        "simple_model = Sequential([Dense(100,activation='relu', input_dim=1186545, kernel_regularizer=l2(0.01)),\n",
        "                           Dropout(0.3, noise_shape=None, seed=None),\n",
        "                           Dense(100,activation='relu', kernel_regularizer=l2(0.01)),\n",
        "                           Dropout(0.3, noise_shape=None, seed=None),\n",
        "                           Dense(1,activation='sigmoid')]) "
      ],
      "execution_count": 0,
      "outputs": []
    },
    {
      "metadata": {
        "id": "so502uAKz4ti",
        "colab_type": "code",
        "colab": {}
      },
      "cell_type": "code",
      "source": [
        "simple_model.compile(loss='binary_crossentropy', optimizer='adam', metrics=['accuracy'])"
      ],
      "execution_count": 0,
      "outputs": []
    },
    {
      "metadata": {
        "id": "78E9qE3mz4to",
        "colab_type": "code",
        "outputId": "14c495b9-e995-4840-aafd-f769fb3c8ca7",
        "colab": {
          "base_uri": "https://localhost:8080/",
          "height": 306
        }
      },
      "cell_type": "code",
      "source": [
        "simple_model.summary()"
      ],
      "execution_count": 0,
      "outputs": [
        {
          "output_type": "stream",
          "text": [
            "_________________________________________________________________\n",
            "Layer (type)                 Output Shape              Param #   \n",
            "=================================================================\n",
            "dense_4 (Dense)              (None, 100)               118654600 \n",
            "_________________________________________________________________\n",
            "dropout_3 (Dropout)          (None, 100)               0         \n",
            "_________________________________________________________________\n",
            "dense_5 (Dense)              (None, 100)               10100     \n",
            "_________________________________________________________________\n",
            "dropout_4 (Dropout)          (None, 100)               0         \n",
            "_________________________________________________________________\n",
            "dense_6 (Dense)              (None, 1)                 101       \n",
            "=================================================================\n",
            "Total params: 118,664,801\n",
            "Trainable params: 118,664,801\n",
            "Non-trainable params: 0\n",
            "_________________________________________________________________\n"
          ],
          "name": "stdout"
        }
      ]
    },
    {
      "metadata": {
        "id": "hqyJpC6ez4tt",
        "colab_type": "code",
        "colab": {}
      },
      "cell_type": "code",
      "source": [
        "# ['alt.atheism',0,0\n",
        "#  'comp.graphics',1,1\n",
        "#  'comp.os.ms-windows.misc',2,1\n",
        "#  'comp.sys.ibm.pc.hardware',3,1\n",
        "#  'comp.sys.mac.hardware',4,1\n",
        "#  'comp.windows.x',5,1\n",
        "#  'misc.forsale',6,1\n",
        "#  'rec.autos',7,0\n",
        "#  'rec.motorcycles',8,0\n",
        "#  'rec.sport.baseball',9.0\n",
        "#  'rec.sport.hockey',10,0\n",
        "#  'sci.crypt',11,1\n",
        "#  'sci.electronics',12,1\n",
        "#  'sci.med',13,1\n",
        "#  'sci.space',14,1\n",
        "#  'soc.religion.christian',15,0\n",
        "#  'talk.politics.guns',16,0\n",
        "#  'talk.politics.mideast',17,0\n",
        "#  'talk.politics.misc',18,0\n",
        "#  'talk.religion.misc',19,0]\n",
        "\n",
        "tech = [1,2,3,4,5,6,11,12,13,14]\n"
      ],
      "execution_count": 0,
      "outputs": []
    },
    {
      "metadata": {
        "id": "5IGGr8Jjz4ty",
        "colab_type": "code",
        "colab": {}
      },
      "cell_type": "code",
      "source": [
        "bin_tr_y = np.isin(train.target, tech).astype(np.uint8)\n",
        "bin_tes_x = np.isin(test.target, tech).astype(np.uint8)"
      ],
      "execution_count": 0,
      "outputs": []
    },
    {
      "metadata": {
        "id": "YAj-CZdjz4t3",
        "colab_type": "code",
        "outputId": "c42527b9-1ea7-441d-9ad7-c1bc7597b5f4",
        "colab": {
          "base_uri": "https://localhost:8080/",
          "height": 34
        }
      },
      "cell_type": "code",
      "source": [
        "type(train.target)"
      ],
      "execution_count": 0,
      "outputs": [
        {
          "output_type": "execute_result",
          "data": {
            "text/plain": [
              "numpy.ndarray"
            ]
          },
          "metadata": {
            "tags": []
          },
          "execution_count": 25
        }
      ]
    },
    {
      "metadata": {
        "id": "YSF-GgmSz4uI",
        "colab_type": "code",
        "outputId": "e3c039f3-5410-4a53-fc67-a669cd1cc045",
        "colab": {
          "base_uri": "https://localhost:8080/",
          "height": 204
        }
      },
      "cell_type": "code",
      "source": [
        "model_output= simple_model.fit(features, bin_tr_y, epochs=5, verbose=1,\n",
        "                               validation_data=(vectors_test, bin_tes_x))"
      ],
      "execution_count": 0,
      "outputs": [
        {
          "output_type": "stream",
          "text": [
            "Train on 11314 samples, validate on 7532 samples\n",
            "Epoch 1/5\n",
            "11314/11314 [==============================] - 228s 20ms/step - loss: 1.1118 - acc: 0.7548 - val_loss: 1.2910 - val_acc: 0.9194\n",
            "Epoch 2/5\n",
            "11314/11314 [==============================] - 212s 19ms/step - loss: 1.4324 - acc: 0.9238 - val_loss: 1.5035 - val_acc: 0.9253\n",
            "Epoch 3/5\n",
            "11314/11314 [==============================] - 213s 19ms/step - loss: 1.4863 - acc: 0.9338 - val_loss: 1.5632 - val_acc: 0.9352\n",
            "Epoch 4/5\n",
            "11314/11314 [==============================] - 212s 19ms/step - loss: 1.4605 - acc: 0.9430 - val_loss: 1.5116 - val_acc: 0.9365\n",
            "Epoch 5/5\n",
            "11314/11314 [==============================] - 212s 19ms/step - loss: 1.4765 - acc: 0.9473 - val_loss: 1.3785 - val_acc: 0.9445\n"
          ],
          "name": "stdout"
        }
      ]
    },
    {
      "metadata": {
        "id": "PRYUNl_l9OKL",
        "colab_type": "code",
        "colab": {}
      },
      "cell_type": "code",
      "source": [
        "import tensorflowjs as tfjs\n",
        "\n",
        "tfjs.converters.save_keras_model(model, tfjs_target_dir)"
      ],
      "execution_count": 0,
      "outputs": []
    },
    {
      "metadata": {
        "id": "MvYq7sUHz4uV",
        "colab_type": "code",
        "colab": {}
      },
      "cell_type": "code",
      "source": [
        "np.mean(model_output[\"acc\"])"
      ],
      "execution_count": 0,
      "outputs": []
    },
    {
      "metadata": {
        "id": "fdLAzcrSz4uZ",
        "colab_type": "code",
        "colab": {}
      },
      "cell_type": "code",
      "source": [
        "np.mean(model_output.hisory[\"val_acc\"])"
      ],
      "execution_count": 0,
      "outputs": []
    },
    {
      "metadata": {
        "id": "r5uFJ0IJz4uB",
        "colab_type": "code",
        "colab": {}
      },
      "cell_type": "code",
      "source": [
        "from keras.utils import to_categorical\n",
        "train_target = to_categorical(train.target)\n",
        "test_target = to_categorical(test.target)"
      ],
      "execution_count": 0,
      "outputs": []
    },
    {
      "metadata": {
        "id": "oikoNH9_DWbZ",
        "colab_type": "code",
        "colab": {}
      },
      "cell_type": "code",
      "source": [
        "simple_model_cat = Sequential([Dense(100,activation='relu', input_dim=1186545, kernel_regularizer=l2(0.01)),\n",
        "                           Dropout(0.3, noise_shape=None, seed=None),\n",
        "                           Dense(100,activation='relu', kernel_regularizer=l2(0.01)),\n",
        "                           Dropout(0.3, noise_shape=None, seed=None),\n",
        "                           Dense(1,activation='softmax')]) "
      ],
      "execution_count": 0,
      "outputs": []
    },
    {
      "metadata": {
        "id": "19OypFTBDWW-",
        "colab_type": "code",
        "colab": {}
      },
      "cell_type": "code",
      "source": [
        "simple_model_cat.compile(loss='sparse_categorical_crossentropy', optimizer='adam', metrics=['accuracy'])"
      ],
      "execution_count": 0,
      "outputs": []
    },
    {
      "metadata": {
        "id": "a8fBOn6TDWTW",
        "colab_type": "code",
        "outputId": "2791c739-2c4e-44d0-882f-67ebfdccb742",
        "colab": {
          "base_uri": "https://localhost:8080/",
          "height": 306
        }
      },
      "cell_type": "code",
      "source": [
        "simple_model_cat.summary()"
      ],
      "execution_count": 0,
      "outputs": [
        {
          "output_type": "stream",
          "text": [
            "_________________________________________________________________\n",
            "Layer (type)                 Output Shape              Param #   \n",
            "=================================================================\n",
            "dense_4 (Dense)              (None, 100)               118654600 \n",
            "_________________________________________________________________\n",
            "dropout_3 (Dropout)          (None, 100)               0         \n",
            "_________________________________________________________________\n",
            "dense_5 (Dense)              (None, 100)               10100     \n",
            "_________________________________________________________________\n",
            "dropout_4 (Dropout)          (None, 100)               0         \n",
            "_________________________________________________________________\n",
            "dense_6 (Dense)              (None, 1)                 101       \n",
            "=================================================================\n",
            "Total params: 118,664,801\n",
            "Trainable params: 118,664,801\n",
            "Non-trainable params: 0\n",
            "_________________________________________________________________\n"
          ],
          "name": "stdout"
        }
      ]
    },
    {
      "metadata": {
        "id": "3wWeWxpuDWRM",
        "colab_type": "code",
        "colab": {}
      },
      "cell_type": "code",
      "source": [
        "model_output= simple_model_cat.fit(features, train.target, epochs=5, verbose=1,\n",
        "                               validation_data=(vectors_test, test.target))"
      ],
      "execution_count": 0,
      "outputs": []
    },
    {
      "metadata": {
        "id": "XtD5lAh5DWPY",
        "colab_type": "code",
        "colab": {}
      },
      "cell_type": "code",
      "source": [
        ""
      ],
      "execution_count": 0,
      "outputs": []
    },
    {
      "metadata": {
        "id": "wyAXB9tMDWLa",
        "colab_type": "code",
        "colab": {}
      },
      "cell_type": "code",
      "source": [
        ""
      ],
      "execution_count": 0,
      "outputs": []
    },
    {
      "metadata": {
        "id": "nYeTRcmODWH7",
        "colab_type": "code",
        "colab": {}
      },
      "cell_type": "code",
      "source": [
        ""
      ],
      "execution_count": 0,
      "outputs": []
    }
  ]
}